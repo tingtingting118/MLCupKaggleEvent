{
  "nbformat": 4,
  "nbformat_minor": 0,
  "metadata": {
    "colab": {
      "name": "ML cup.ipynb",
      "provenance": [],
      "collapsed_sections": [],
      "authorship_tag": "ABX9TyPnOHFNHN053fD8ozNVjsEN",
      "include_colab_link": true
    },
    "kernelspec": {
      "name": "python3",
      "display_name": "Python 3"
    },
    "language_info": {
      "name": "python"
    }
  },
  "cells": [
    {
      "cell_type": "markdown",
      "metadata": {
        "id": "view-in-github",
        "colab_type": "text"
      },
      "source": [
        "<a href=\"https://colab.research.google.com/github/tingtingting118/MLCupKaggleEvent/blob/main/ML_cup.ipynb\" target=\"_parent\"><img src=\"https://colab.research.google.com/assets/colab-badge.svg\" alt=\"Open In Colab\"/></a>"
      ]
    },
    {
      "cell_type": "code",
      "execution_count": null,
      "metadata": {
        "id": "yU-yLDVsi253"
      },
      "outputs": [],
      "source": [
        "import pandas as pd\n",
        "import numpy as np\n",
        "import seaborn as sns\n",
        "import matplotlib.pyplot as plt\n",
        "import seaborn as sns\n",
        "\n",
        "# for Q-Q plots\n",
        "import scipy.stats as stats\n",
        "\n",
        "\n",
        "#modeling\n",
        "\n",
        "\n",
        "from sklearn.model_selection import train_test_split\n",
        "from sklearn.ensemble import RandomForestClassifier\n",
        "from xgboost import XGBClassifier\n",
        "from sklearn.model_selection import cross_val_score\n",
        "from sklearn.ensemble import GradientBoostingClassifier\n",
        "from sklearn.pipeline import Pipeline\n",
        "from sklearn.metrics import roc_auc_score\n",
        "from sklearn.ensemble import IsolationForest\n",
        "\n",
        "# for feature engineering\n",
        "from feature_engine import imputation as mdi\n",
        "from feature_engine import discretisation as dsc\n",
        "from feature_engine import encoding as ce\n",
        "from sklearn.preprocessing import OneHotEncoder\n",
        "from tempfile import mkdtemp\n",
        "from feature_engine.encoding import OneHotEncoder as fe_OneHotEncoder\n",
        "from feature_engine.outliers import ArbitraryOutlierCapper\n",
        "import scipy.stats as stats\n",
        "\n",
        "import feature_engine.transformation as vt\n",
        "\n",
        "\n",
        "from datetime import datetime as dt\n",
        "from feature_engine.outliers import Winsorizer"
      ]
    },
    {
      "cell_type": "code",
      "source": [
        "url_train = 'https://raw.githubusercontent.com/tingtingting118/MLCupKaggleEvent/main/diabetes_train.csv'\n",
        "data = pd.read_csv(url_train)\n",
        "#url_y = 'https://raw.githubusercontent.com/tingtingting118/PumpitUp/main/Train_Y.csv'\n",
        "#data_y = pd.read_csv(url_y)\n",
        "url_test = 'https://raw.githubusercontent.com/tingtingting118/MLCupKaggleEvent/main/diabetes_test.csv'\n",
        "X_testing = pd.read_csv(url_test)\n",
        "#data_test = pd.read_csv(url_test_x)"
      ],
      "metadata": {
        "id": "WYo9gUvdj9o8"
      },
      "execution_count": null,
      "outputs": []
    },
    {
      "cell_type": "code",
      "source": [
        "data.head()"
      ],
      "metadata": {
        "colab": {
          "base_uri": "https://localhost:8080/",
          "height": 203
        },
        "id": "wtvMUGDNlSZr",
        "outputId": "f4118f95-5114-409b-d98e-b7059a19a5ac"
      },
      "execution_count": null,
      "outputs": [
        {
          "output_type": "execute_result",
          "data": {
            "text/html": [
              "<div>\n",
              "<style scoped>\n",
              "    .dataframe tbody tr th:only-of-type {\n",
              "        vertical-align: middle;\n",
              "    }\n",
              "\n",
              "    .dataframe tbody tr th {\n",
              "        vertical-align: top;\n",
              "    }\n",
              "\n",
              "    .dataframe thead th {\n",
              "        text-align: right;\n",
              "    }\n",
              "</style>\n",
              "<table border=\"1\" class=\"dataframe\">\n",
              "  <thead>\n",
              "    <tr style=\"text-align: right;\">\n",
              "      <th></th>\n",
              "      <th>Id</th>\n",
              "      <th>num_times_pregnant</th>\n",
              "      <th>plasma_glucose</th>\n",
              "      <th>DBP</th>\n",
              "      <th>triceps_skin</th>\n",
              "      <th>serum_insulin</th>\n",
              "      <th>BMI</th>\n",
              "      <th>pedigree</th>\n",
              "      <th>age</th>\n",
              "      <th>diabetes</th>\n",
              "    </tr>\n",
              "  </thead>\n",
              "  <tbody>\n",
              "    <tr>\n",
              "      <th>0</th>\n",
              "      <td>358</td>\n",
              "      <td>13</td>\n",
              "      <td>129</td>\n",
              "      <td>0</td>\n",
              "      <td>30</td>\n",
              "      <td>0</td>\n",
              "      <td>39.9</td>\n",
              "      <td>0.569</td>\n",
              "      <td>44</td>\n",
              "      <td>1</td>\n",
              "    </tr>\n",
              "    <tr>\n",
              "      <th>1</th>\n",
              "      <td>74</td>\n",
              "      <td>4</td>\n",
              "      <td>129</td>\n",
              "      <td>86</td>\n",
              "      <td>20</td>\n",
              "      <td>270</td>\n",
              "      <td>35.1</td>\n",
              "      <td>0.231</td>\n",
              "      <td>23</td>\n",
              "      <td>0</td>\n",
              "    </tr>\n",
              "    <tr>\n",
              "      <th>2</th>\n",
              "      <td>353</td>\n",
              "      <td>3</td>\n",
              "      <td>61</td>\n",
              "      <td>82</td>\n",
              "      <td>28</td>\n",
              "      <td>0</td>\n",
              "      <td>34.4</td>\n",
              "      <td>0.243</td>\n",
              "      <td>46</td>\n",
              "      <td>0</td>\n",
              "    </tr>\n",
              "    <tr>\n",
              "      <th>3</th>\n",
              "      <td>498</td>\n",
              "      <td>2</td>\n",
              "      <td>81</td>\n",
              "      <td>72</td>\n",
              "      <td>15</td>\n",
              "      <td>76</td>\n",
              "      <td>30.1</td>\n",
              "      <td>0.547</td>\n",
              "      <td>25</td>\n",
              "      <td>0</td>\n",
              "    </tr>\n",
              "    <tr>\n",
              "      <th>4</th>\n",
              "      <td>146</td>\n",
              "      <td>0</td>\n",
              "      <td>102</td>\n",
              "      <td>75</td>\n",
              "      <td>23</td>\n",
              "      <td>0</td>\n",
              "      <td>0.0</td>\n",
              "      <td>0.572</td>\n",
              "      <td>21</td>\n",
              "      <td>0</td>\n",
              "    </tr>\n",
              "  </tbody>\n",
              "</table>\n",
              "</div>"
            ],
            "text/plain": [
              "    Id  num_times_pregnant  plasma_glucose  DBP  ...   BMI  pedigree  age  diabetes\n",
              "0  358                  13             129    0  ...  39.9     0.569   44         1\n",
              "1   74                   4             129   86  ...  35.1     0.231   23         0\n",
              "2  353                   3              61   82  ...  34.4     0.243   46         0\n",
              "3  498                   2              81   72  ...  30.1     0.547   25         0\n",
              "4  146                   0             102   75  ...   0.0     0.572   21         0\n",
              "\n",
              "[5 rows x 10 columns]"
            ]
          },
          "metadata": {},
          "execution_count": 5
        }
      ]
    },
    {
      "cell_type": "code",
      "source": [
        "#check correlation between features\n",
        "f, ax = plt.subplots(figsize=(12, 10))\n",
        "plt.title('Pearson Correlation of Features')\n",
        "\n",
        "# Draw the heatmap using seaborn\n",
        "\n",
        "sns.heatmap(data.corr(),linewidths=0.25, square=True, cmap =plt.cm.viridis, linecolor='black', annot=True)\n",
        "plt.show()"
      ],
      "metadata": {
        "colab": {
          "base_uri": "https://localhost:8080/",
          "height": 695
        },
        "id": "KjtMdPNHlTy3",
        "outputId": "5eef30a5-abf2-4bdf-e5f7-582327d44bf3"
      },
      "execution_count": null,
      "outputs": [
        {
          "output_type": "display_data",
          "data": {
            "image/png": "[encoded data removed]",
            "text/plain": [
              "<Figure size 864x720 with 2 Axes>"
            ]
          },
          "metadata": {
            "needs_background": "light"
          }
        }
      ]
    },
    {
      "cell_type": "code",
      "source": [
        "#drop columns \n",
        "df_x = data.drop(columns = [\"Id\",\"diabetes\"])\n",
        "df_y = data[\"diabetes\"]"
      ],
      "metadata": {
        "id": "Gjvz-d8blbWh"
      },
      "execution_count": null,
      "outputs": []
    },
    {
      "cell_type": "code",
      "source": [
        "boxplot = df_x.boxplot(column=list(df_x.columns))"
      ],
      "metadata": {
        "colab": {
          "base_uri": "https://localhost:8080/",
          "height": 266
        },
        "id": "uDLJxX3nxZeu",
        "outputId": "18b7a06c-39f0-4aa3-ea9b-72e047c11e7b"
      },
      "execution_count": null,
      "outputs": [
        {
          "output_type": "display_data",
          "data": {
            "image/png": "[encoded data removed]",
            "text/plain": [
              "<Figure size 432x288 with 1 Axes>"
            ]
          },
          "metadata": {
            "needs_background": "light"
          }
        }
      ]
    },
    {
      "cell_type": "code",
      "source": [
        "IQR_Outliers(df_x,features)"
      ],
      "metadata": {
        "colab": {
          "base_uri": "https://localhost:8080/"
        },
        "id": "L8DYfWZn0mFD",
        "outputId": "ac70d4cc-e269-42f3-80ad-11489f4085db"
      },
      "execution_count": null,
      "outputs": [
        {
          "output_type": "stream",
          "name": "stdout",
          "text": [
            "# of features:  8\n",
            "Features:  ['num_times_pregnant', 'plasma_glucose', 'DBP', 'triceps_skin', 'serum_insulin', 'BMI', 'pedigree', 'age']\n",
            "Number of samples:  576\n",
            "\n",
            "Feature:  num_times_pregnant\n",
            "Upper and Lower limits:  13.5 -6.5\n",
            "Number of outliers:  4\n",
            "Outliers Index:  [145, 235, 433, 496]\n",
            "Outliers:  [15 14 17 14]\n",
            "\n",
            "Feature:  plasma_glucose\n",
            "Upper and Lower limits:  197.125 40.125\n",
            "Number of outliers:  7\n",
            "Outliers Index:  [59, 114, 137, 178, 461, 509, 557]\n",
            "Outliers:  [  0   0   0   0   0 198 199]\n",
            "\n",
            "Feature:  DBP\n",
            "Upper and Lower limits:  104.0 40.0\n",
            "Number of outliers:  31\n",
            "Outliers Index:  [0, 33, 34, 43, 47, 55, 78, 91, 100, 106, 113, 115, 116, 130, 131, 148, 155, 163, 181, 219, 245, 254, 345, 390, 391, 422, 427, 498, 530, 572, 574]\n",
            "Outliers:  [  0   0   0  30   0  38   0 110 110   0   0   0   0   0   0  30 106   0\n",
            "   0   0   0   0  24   0   0   0 106   0   0 122   0]\n",
            "\n",
            "Feature:  triceps_skin\n",
            "Upper and Lower limits:  80.0 -48.0\n",
            "Number of outliers:  0\n",
            "Outliers Index:  []\n",
            "Outliers:  []\n",
            "\n",
            "Feature:  serum_insulin\n",
            "Upper and Lower limits:  318.75 -191.25\n",
            "Number of outliers:  25\n",
            "Outliers Index:  [24, 40, 74, 88, 110, 136, 141, 160, 184, 223, 277, 280, 291, 312, 316, 332, 346, 371, 385, 414, 425, 444, 449, 456, 522]\n",
            "Outliers:  [680 325 402 335 325 485 480 744 440 392 510 600 328 465 540 495 543 495\n",
            " 474 375 387 330 415 321 846]\n",
            "\n",
            "Feature:  BMI\n",
            "Upper and Lower limits:  50.312499999999986 13.012500000000006\n",
            "Number of outliers:  11\n",
            "Outliers Index:  [4, 24, 100, 116, 117, 131, 148, 179, 190, 351, 360]\n",
            "Outliers:  [ 0.  52.3 67.1  0.   0.   0.  55.   0.  59.4 52.9  0. ]\n",
            "\n",
            "Feature:  pedigree\n",
            "Upper and Lower limits:  1.1706249999999998 -0.31837499999999996\n",
            "Number of outliers:  24\n",
            "Outliers Index:  [11, 44, 160, 179, 189, 190, 224, 226, 234, 261, 278, 287, 312, 328, 363, 398, 453, 489, 531, 533, 542, 556, 557, 564]\n",
            "Outliers:  [1.6   1.699 2.329 1.731 1.222 2.42  1.441 1.191 1.213 1.461 1.893 1.698\n",
            " 2.137 1.189 1.4   1.174 2.288 1.321 1.182 1.318 1.781 1.391 1.394 1.476]\n",
            "\n",
            "Feature:  age\n",
            "Upper and Lower limits:  64.0 0.0\n",
            "Number of outliers:  12\n",
            "Outliers Index:  [95, 115, 120, 153, 204, 205, 273, 327, 360, 372, 469, 548]\n",
            "Outliers:  [70 72 66 66 68 66 67 66 69 69 67 81]\n",
            "\n",
            "Number of rows with outliers:  102\n",
            "List of rows with outliers:  [0, 4, 11, 24, 33, 34, 40, 43, 44, 47, 55, 59, 74, 78, 88, 91, 95, 100, 106, 110, 113, 114, 115, 116, 117, 120, 130, 131, 136, 137, 141, 145, 148, 153, 155, 160, 163, 178, 179, 181, 184, 189, 190, 204, 205, 219, 223, 224, 226, 234, 235, 245, 254, 261, 273, 277, 278, 280, 287, 291, 312, 316, 327, 328, 332, 345, 346, 351, 360, 363, 371, 372, 385, 390, 391, 398, 414, 422, 425, 427, 433, 444, 449, 453, 456, 461, 469, 489, 496, 498, 509, 522, 530, 531, 533, 542, 548, 556, 557, 564, 572, 574]\n"
          ]
        }
      ]
    },
    {
      "cell_type": "code",
      "source": [
        "from sklearn.linear_model import LogisticRegression"
      ],
      "metadata": {
        "id": "6OgMr8qZ_HVU"
      },
      "execution_count": null,
      "outputs": []
    },
    {
      "cell_type": "code",
      "source": [
        "pipe = Pipeline([\n",
        "# ('Outlier_removal', \n",
        "\n",
        "# Winsorizer(capping_method='iqr', # choose iqr for IQR rule boundaries or gaussian for mean and std\n",
        "#                           tail='both', # cap left, right or both tails \n",
        "#                           fold=1.5,\n",
        "#                           variables=['num_times_pregnant', 'plasma_glucose', 'plasma_glucose','DBP','age','pedigree','serum_insulin','BMI'])),\n",
        "('mean_imputer', MeanMedianImputer(imputation_method='mean',\n",
        "                                       variables=['DBP','serum_insulin','triceps_skin','plasma_glucose','BMI'])),                 \n",
        "\n",
        "('logarithm_transform', vt.LogCpTransformer(variables = ['serum_insulin','pedigree','age','num_times_pregnant'],C=\"auto\")),\n",
        "\n",
        " ('standardizer', StandardScaler()),\n",
        "       ('model', LogisticRegression())\n",
        " \n",
        " \n",
        " ])                \n"
      ],
      "metadata": {
        "id": "ggvKs3DJmHKE"
      },
      "execution_count": null,
      "outputs": []
    },
    {
      "cell_type": "code",
      "source": [
        "pipe.fit(df_x, df_y)"
      ],
      "metadata": {
        "colab": {
          "base_uri": "https://localhost:8080/"
        },
        "id": "HDbesJ3Imbvu",
        "outputId": "7ca74fbb-4819-40f6-c138-9e8ef106dbfb"
      },
      "execution_count": null,
      "outputs": [
        {
          "output_type": "execute_result",
          "data": {
            "text/plain": [
              "Pipeline(steps=[('Outlier_removal',\n",
              "                 Winsorizer(capping_method='iqr', fold=1.5, tail='both',\n",
              "                            variables=['num_times_pregnant', 'plasma_glucose',\n",
              "                                       'plasma_glucose', 'DBP', 'age',\n",
              "                                       'pedigree', 'serum_insulin', 'BMI'])),\n",
              "                ('logarithm_transform',\n",
              "                 LogCpTransformer(variables=['serum_insulin', 'pedigree', 'age',\n",
              "                                             'num_times_pregnant'])),\n",
              "                ('standardizer', StandardScaler()),\n",
              "                ('model', KNeighborsClassifier(n_neighbors=3))])"
            ]
          },
          "metadata": {},
          "execution_count": 182
        }
      ]
    },
    {
      "cell_type": "code",
      "source": [
        "pipe.fit(X,y)"
      ],
      "metadata": {
        "colab": {
          "base_uri": "https://localhost:8080/"
        },
        "id": "eR1FAbbJGa-6",
        "outputId": "204fcc19-a3f4-44dc-c287-20862fce715c"
      },
      "execution_count": null,
      "outputs": [
        {
          "output_type": "execute_result",
          "data": {
            "text/plain": [
              "Pipeline(steps=[('mean_imputer',\n",
              "                 MeanMedianImputer(imputation_method='mean',\n",
              "                                   variables=['DBP', 'serum_insulin',\n",
              "                                              'triceps_skin', 'plasma_glucose',\n",
              "                                              'BMI'])),\n",
              "                ('logarithm_transform',\n",
              "                 LogCpTransformer(variables=['serum_insulin', 'pedigree', 'age',\n",
              "                                             'num_times_pregnant'])),\n",
              "                ('standardizer', StandardScaler()),\n",
              "                ('model', LogisticRegression())])"
            ]
          },
          "metadata": {},
          "execution_count": 231
        }
      ]
    },
    {
      "cell_type": "code",
      "source": [
        "rfc_y_predict = pipe.predict(X_testing.drop(columns = [\"Id\"]))"
      ],
      "metadata": {
        "id": "JQY7HBG-mqKO"
      },
      "execution_count": null,
      "outputs": []
    },
    {
      "cell_type": "code",
      "source": [
        "print(cross_val_score(pipe, X,y, cv=5,scoring=\"f1_weighted\").mean(),\n",
        "cross_val_score(pipe, X,y, cv=5,scoring=\"f1_macro\").mean())"
      ],
      "metadata": {
        "colab": {
          "base_uri": "https://localhost:8080/"
        },
        "id": "byV1ZhPt_QTP",
        "outputId": "b86c5e75-a6b2-4e03-b24e-070018b4d646"
      },
      "execution_count": null,
      "outputs": [
        {
          "output_type": "stream",
          "name": "stdout",
          "text": [
            "0.7664973733652671 0.7363775775870501\n"
          ]
        }
      ]
    },
    {
      "cell_type": "code",
      "source": [
        "print(cross_val_score(pipe, df_x, df_y, cv=5,scoring=\"f1_weighted\").mean(),\n",
        "cross_val_score(pipe, df_x, df_y, cv=5,scoring=\"f1_macro\").mean())"
      ],
      "metadata": {
        "id": "OftLXRGtGfEJ"
      },
      "execution_count": null,
      "outputs": []
    },
    {
      "cell_type": "code",
      "source": [
        "print(cross_val_score(pipe, df_x, df_y, cv=5,scoring=\"f1_weighted\").mean(),\n",
        "cross_val_score(pipe, df_x, df_y, cv=5,scoring=\"f1_macro\").mean())"
      ],
      "metadata": {
        "colab": {
          "base_uri": "https://localhost:8080/"
        },
        "id": "CAp59ZPI_wzH",
        "outputId": "58fffe55-65d1-45b7-9ba6-7c46f2a6bf20"
      },
      "execution_count": null,
      "outputs": [
        {
          "output_type": "stream",
          "name": "stdout",
          "text": [
            "0.7780563131090311 0.7486604260507695\n"
          ]
        }
      ]
    },
    {
      "cell_type": "code",
      "source": [
        ""
      ],
      "metadata": {
        "id": "3BCH6b-X_vip"
      },
      "execution_count": null,
      "outputs": []
    },
    {
      "cell_type": "code",
      "source": [
        "rfc_submission = pd.DataFrame({\"Id\":X_testing[\"Id\"], \"Predicted\":rfc_y_predict})\n",
        "rfc_submission.to_csv(\"logistic.csv\",index= False)#"
      ],
      "metadata": {
        "id": "MubBZ6rymhs7"
      },
      "execution_count": null,
      "outputs": []
    },
    {
      "cell_type": "code",
      "source": [
        "from sklearn.neighbors import KNeighborsClassifier\n",
        "from sklearn.naive_bayes import GaussianNB\n",
        "from sklearn.preprocessing import StandardScaler\n",
        "from sklearn.svm import LinearSVC\n",
        "from sklearn import svm"
      ],
      "metadata": {
        "id": "5zR5jr37uxyp"
      },
      "execution_count": null,
      "outputs": []
    },
    {
      "cell_type": "code",
      "source": [
        "pipe2 = Pipeline([\n",
        "('Outlier_removal', \n",
        "\n",
        "Winsorizer(capping_method='gaussian', # choose iqr for IQR rule boundaries or gaussian for mean and std\n",
        "                          tail='both', # cap left, right or both tails \n",
        "                          fold=3,\n",
        "                          variables=['num_times_pregnant', 'plasma_glucose', 'plasma_glucose','DBP','age','pedigree','serum_insulin','BMI'])),\n",
        " ('logarithm_transform', vt.LogCpTransformer(variables = ['serum_insulin','pedigree','age','num_times_pregnant'],C=\"auto\")),\n",
        " \n",
        "     \n",
        "('rfmodel',RandomForestClassifier())\n",
        "       \n",
        " \n",
        " \n",
        " ])    "
      ],
      "metadata": {
        "id": "wXmlIn6qn3aF"
      },
      "execution_count": null,
      "outputs": []
    },
    {
      "cell_type": "code",
      "source": [
        "pipe2.fit(df_x, df_y)\n",
        "xgboost_y_predict = pipe2.predict(X_testing.drop(columns = [\"Id\"]))"
      ],
      "metadata": {
        "id": "9Dt8eYxZoBEt"
      },
      "execution_count": null,
      "outputs": []
    },
    {
      "cell_type": "code",
      "source": [
        "print(cross_val_score(pipe2, df_x, df_y, cv=5,scoring=\"f1_weighted\").mean(),\n",
        "cross_val_score(pipe2, df_x, df_y, cv=5,scoring=\"f1_macro\").mean())"
      ],
      "metadata": {
        "colab": {
          "base_uri": "https://localhost:8080/"
        },
        "id": "aPxavNMqvJC5",
        "outputId": "1608e588-3b28-4cc0-d6ba-e63879658c53"
      },
      "execution_count": null,
      "outputs": [
        {
          "output_type": "stream",
          "name": "stdout",
          "text": [
            "0.7661100748995082 0.7229698472339493\n"
          ]
        }
      ]
    },
    {
      "cell_type": "code",
      "source": [
        "xg_submission = pd.DataFrame({\"Id\":X_testing[\"Id\"], \"Predicted\":xgboost_y_predict})\n",
        "xg_submission.to_csv(\"gnb_submission_1207.csv\",index= False)#"
      ],
      "metadata": {
        "id": "-3RjwRLyoEsF"
      },
      "execution_count": null,
      "outputs": []
    },
    {
      "cell_type": "code",
      "source": [
        "df_x.columns"
      ],
      "metadata": {
        "colab": {
          "base_uri": "https://localhost:8080/"
        },
        "id": "ONmNGo1xsBbU",
        "outputId": "b376a9ef-e2cc-4497-9245-43d201d2c3cc"
      },
      "execution_count": null,
      "outputs": [
        {
          "output_type": "execute_result",
          "data": {
            "text/plain": [
              "Index(['num_times_pregnant', 'plasma_glucose', 'DBP', 'triceps_skin',\n",
              "       'serum_insulin', 'BMI', 'pedigree', 'age'],\n",
              "      dtype='object')"
            ]
          },
          "metadata": {},
          "execution_count": 22
        }
      ]
    },
    {
      "cell_type": "code",
      "source": [
        "pipe3 = Pipeline([\n",
        "('Outlier_removal', \n",
        "\n",
        "Winsorizer(capping_method='iqr', # choose iqr for IQR rule boundaries or gaussian for mean and std\n",
        "                          tail='both', # cap left, right or both tails \n",
        "                          fold=1.5,\n",
        "                          variables=['num_times_pregnant', 'plasma_glucose', 'plasma_glucose','DBP','age','pedigree','serum_insulin','BMI'])),\n",
        " ('logarithm_transform', vt.LogCpTransformer(variables = ['serum_insulin','pedigree','age','num_times_pregnant'],C=\"auto\")),\n",
        " \n",
        "     \n",
        "('clf',GradientBoostingClassifier())\n",
        "       \n",
        " \n",
        " \n",
        " ])  "
      ],
      "metadata": {
        "id": "D_VujpxFpFnY"
      },
      "execution_count": null,
      "outputs": []
    },
    {
      "cell_type": "code",
      "source": [
        "pipe3.fit(df_x, df_y)\n",
        "xgboost_y_predict2 = pipe3.predict(X_testing.drop(columns = [\"Id\"]))"
      ],
      "metadata": {
        "id": "aE1cstYuoshm"
      },
      "execution_count": null,
      "outputs": []
    },
    {
      "cell_type": "code",
      "source": [
        "print(cross_val_score(pipe3, df_x, df_y, cv=5,scoring=\"f1_weighted\").mean(),\n",
        "cross_val_score(pipe3, df_x, df_y, cv=5,scoring=\"f1_macro\").mean())"
      ],
      "metadata": {
        "colab": {
          "base_uri": "https://localhost:8080/"
        },
        "id": "01L0fgWZ3ic6",
        "outputId": "059fd6e9-5845-473c-bd8c-2496947a0575"
      },
      "execution_count": null,
      "outputs": [
        {
          "output_type": "stream",
          "name": "stdout",
          "text": [
            "0.7665291816351585 0.7328574905892835\n"
          ]
        }
      ]
    },
    {
      "cell_type": "code",
      "source": [
        "xg_submission2 = pd.DataFrame({\"Id\":X_testing[\"Id\"], \"Predicted\":xgboost_y_predict2})\n",
        "xg_submission2.to_csv(\"xg_submission2_1207.csv\",index= False)#"
      ],
      "metadata": {
        "id": "aB7gF3JKpW14"
      },
      "execution_count": null,
      "outputs": []
    },
    {
      "cell_type": "code",
      "source": [
        "X = df_x.copy()\n",
        "y = df_y.copy()"
      ],
      "metadata": {
        "id": "Y9P9x6Bl7p_4"
      },
      "execution_count": null,
      "outputs": []
    },
    {
      "cell_type": "code",
      "source": [
        "X.loc[X[\"BMI\"]<18,\"BMI\"] = np.NaN\n",
        "#.replace(0,np.NaN,inplace = True)\n",
        "\n",
        "\n"
      ],
      "metadata": {
        "id": "xh_s_BEbCBxC"
      },
      "execution_count": null,
      "outputs": []
    },
    {
      "cell_type": "code",
      "source": [
        "X.loc[X[\"triceps_skin\"]==0,\"triceps_skin\"] = np.NaN"
      ],
      "metadata": {
        "id": "--dMYwGsDXud"
      },
      "execution_count": null,
      "outputs": []
    },
    {
      "cell_type": "code",
      "source": [
        "X.loc[X[\"serum_insulin\"]==0,\"serum_insulin\"] = np.NaN"
      ],
      "metadata": {
        "id": "gpEFz-GsDqyd"
      },
      "execution_count": null,
      "outputs": []
    },
    {
      "cell_type": "code",
      "source": [
        "X.loc[X[\"plasma_glucose\"]==0,\"plasma_glucose\"] = np.NaN"
      ],
      "metadata": {
        "id": "tls9J2zBEFXG"
      },
      "execution_count": null,
      "outputs": []
    },
    {
      "cell_type": "code",
      "source": [
        "X.loc[X[\"DBP\"]==0,\"DBP\"] = np.NaN"
      ],
      "metadata": {
        "id": "cKIUH35vEP6-"
      },
      "execution_count": null,
      "outputs": []
    },
    {
      "cell_type": "code",
      "source": [
        "X.isnull().mean()\n"
      ],
      "metadata": {
        "colab": {
          "base_uri": "https://localhost:8080/"
        },
        "id": "A6wnfPsZCnCr",
        "outputId": "ccb61a2d-263e-4551-a1d9-f2b851113f35"
      },
      "execution_count": null,
      "outputs": [
        {
          "output_type": "execute_result",
          "data": {
            "text/plain": [
              "num_times_pregnant    0.000000\n",
              "plasma_glucose        0.008681\n",
              "DBP                   0.038194\n",
              "triceps_skin          0.284722\n",
              "serum_insulin         0.479167\n",
              "BMI                   0.010417\n",
              "pedigree              0.000000\n",
              "age                   0.000000\n",
              "dtype: float64"
            ]
          },
          "metadata": {},
          "execution_count": 218
        }
      ]
    },
    {
      "cell_type": "code",
      "source": [
        "from feature_engine.imputation import MeanMedianImputer\n"
      ],
      "metadata": {
        "id": "ZkT0Rjwr7w0M"
      },
      "execution_count": null,
      "outputs": []
    },
    {
      "cell_type": "code",
      "source": [
        "pipe4 = Pipeline([\n",
        " ('mean_imputer', MeanMedianImputer(imputation_method='median',\n",
        "                                       variables=['DBP','serum_insulin','triceps_skin','plasma_glucose','BMI'])),\n",
        " ('logarithm_transform', vt.LogCpTransformer(variables = ['serum_insulin','pedigree','age','num_times_pregnant'],C=\"auto\")),\n",
        " \n",
        "     \n",
        "('clf',GradientBoostingClassifier())\n",
        "       \n",
        " \n",
        " \n",
        " ])  "
      ],
      "metadata": {
        "id": "AruvZGbE8TqI"
      },
      "execution_count": null,
      "outputs": []
    },
    {
      "cell_type": "code",
      "source": [
        "pipe4.fit(X, y)\n",
        "y_predict = pipe4.predict(X_testing.drop(columns = [\"Id\"]))"
      ],
      "metadata": {
        "id": "9DDrE0068noY"
      },
      "execution_count": null,
      "outputs": []
    },
    {
      "cell_type": "code",
      "source": [
        "print(cross_val_score(pipe4, X, y, cv=5,scoring=\"f1_weighted\").mean(),\n",
        "cross_val_score(pipe4, X, y, cv=5,scoring=\"f1_macro\").mean())"
      ],
      "metadata": {
        "colab": {
          "base_uri": "https://localhost:8080/"
        },
        "id": "cNQ6W4Gi81bR",
        "outputId": "a2b57efb-4706-4549-8c79-b91fe9460526"
      },
      "execution_count": null,
      "outputs": [
        {
          "output_type": "stream",
          "name": "stdout",
          "text": [
            "0.7635476109747465 0.7349242216136248\n"
          ]
        }
      ]
    },
    {
      "cell_type": "code",
      "source": [
        "print(cross_val_score(pipe4, X, y, cv=5,scoring=\"f1_weighted\").mean(),\n",
        "cross_val_score(pipe4, X, y, cv=5,scoring=\"f1_macro\").mean())"
      ],
      "metadata": {
        "colab": {
          "base_uri": "https://localhost:8080/"
        },
        "id": "N6jAHPcTFKGf",
        "outputId": "32203ad7-e48d-4275-ff7e-9afcefb59e16"
      },
      "execution_count": null,
      "outputs": [
        {
          "output_type": "stream",
          "name": "stdout",
          "text": [
            "0.7581961953432483 0.7289281166519018\n"
          ]
        }
      ]
    },
    {
      "cell_type": "code",
      "source": [
        "submission = pd.DataFrame({\"Id\":X_testing[\"Id\"], \"Predicted\":y_predict})\n",
        "submission.to_csv(\"submission.csv\",index= False)#"
      ],
      "metadata": {
        "id": "47ui4itb9AF5"
      },
      "execution_count": null,
      "outputs": []
    }
  ]
}